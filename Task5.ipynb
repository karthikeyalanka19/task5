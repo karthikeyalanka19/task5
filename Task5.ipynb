{
  "nbformat": 4,
  "nbformat_minor": 0,
  "metadata": {
    "colab": {
      "name": "Task5.ipynb",
      "provenance": [],
      "collapsed_sections": []
    },
    "kernelspec": {
      "name": "python3",
      "display_name": "Python 3"
    },
    "language_info": {
      "name": "python"
    }
  },
  "cells": [
    {
      "cell_type": "code",
      "execution_count": null,
      "metadata": {
        "id": "3aYPYDbCmeUZ"
      },
      "outputs": [],
      "source": [
        "import numpy as np\n",
        "import pandas as pd\n",
        "import matplotlib.pyplot as plt"
      ]
    },
    {
      "cell_type": "code",
      "source": [
        "#Importing the provided dataset\n",
        "userdata1=pd.read_csv(\"takehome_users.csv\", encoding='ISO-8859-1')\n",
        "userdata2=pd.read_csv(\"takehome_user_engagement.csv\")\n",
        "print(userdata1.shape)\n",
        "print(userdata2.shape)"
      ],
      "metadata": {
        "colab": {
          "base_uri": "https://localhost:8080/"
        },
        "id": "dIAKbrW9nBp5",
        "outputId": "75b49f3e-a3ff-4440-9c98-d1f3b0e59067"
      },
      "execution_count": 30,
      "outputs": [
        {
          "output_type": "stream",
          "name": "stdout",
          "text": [
            "(12000, 10)\n",
            "(207917, 3)\n"
          ]
        }
      ]
    },
    {
      "cell_type": "code",
      "source": [
        "#Merge the two userdatasets\n",
        "merged_data = pd.merge(userdata1, userdata2, left_on='object_id' , right_on='user_id')\n",
        "print(merged_data.shape)\n",
        "print(merged_data.columns)\n",
        "#print(merged_data)"
      ],
      "metadata": {
        "colab": {
          "base_uri": "https://localhost:8080/"
        },
        "id": "RGcd8AOZqMwX",
        "outputId": "44d665af-f5ff-410d-8682-c99bb52542ad"
      },
      "execution_count": 29,
      "outputs": [
        {
          "output_type": "stream",
          "name": "stdout",
          "text": [
            "(207917, 13)\n",
            "Index(['object_id', 'creation_time', 'name', 'email', 'creation_source',\n",
            "       'last_session_creation_time', 'opted_in_to_mailing_list',\n",
            "       'enabled_for_marketing_drip', 'org_id', 'invited_by_user_id',\n",
            "       'time_stamp', 'user_id', 'visited'],\n",
            "      dtype='object')\n"
          ]
        }
      ]
    },
    {
      "cell_type": "code",
      "source": [
        "#Extracting date,week,year,month from timestamp\n",
        "merged_data['date'] = merged_data['time_stamp'].astype('datetime64')\n",
        "merged_data['week'] = merged_data['date'].dt.isocalendar().week\n",
        "merged_data['year'] = merged_data['date'].dt.isocalendar().year\n",
        "merged_data['month'] = merged_data['date'].dt.month\n",
        "\n",
        "#Creating DF after grouping with the required data\n",
        "grouped_data=merged_data.groupby(['user_id','org_id','year' ,'month', 'week' , 'visited']).size()\n",
        "dff = grouped_data.to_frame(name = 'weekly_visited').reset_index()\n",
        "print(dff.info)"
      ],
      "metadata": {
        "colab": {
          "base_uri": "https://localhost:8080/"
        },
        "id": "U1jaHdvgqmzm",
        "outputId": "f1de71eb-23f4-4d8c-b16c-6b62a5794c03"
      },
      "execution_count": null,
      "outputs": [
        {
          "output_type": "stream",
          "name": "stdout",
          "text": [
            "<bound method DataFrame.info of        user_id  org_id  year  month  week  visited  weekly_visited\n",
            "0            1      11  2014      4    17        1               1\n",
            "1            2       1  2013     11    46        1               1\n",
            "2            2       1  2013     11    48        1               1\n",
            "3            2       1  2013     12    50        1               1\n",
            "4            2       1  2013     12    52        1               1\n",
            "...        ...     ...   ...    ...   ...      ...             ...\n",
            "75928    11996      89  2013      9    36        1               1\n",
            "75929    11997     200  2013      1     3        1               1\n",
            "75930    11998      83  2014      4    17        1               1\n",
            "75931    11999       6  2012      6    22        1               1\n",
            "75932    12000       0  2014      1     4        1               1\n",
            "\n",
            "[75933 rows x 7 columns]>\n"
          ]
        }
      ]
    },
    {
      "cell_type": "code",
      "source": [
        "#Filtering the \"weekly_visit\" by 3 or more times of visit\n",
        "df1 = dff[dff['weekly_visited'] >= 3]\n",
        "df1"
      ],
      "metadata": {
        "colab": {
          "base_uri": "https://localhost:8080/",
          "height": 424
        },
        "id": "8FH2a6WH21b8",
        "outputId": "03b552c1-2db4-490d-b8af-9a89f932b78d"
      },
      "execution_count": null,
      "outputs": [
        {
          "output_type": "execute_result",
          "data": {
            "text/plain": [
              "       user_id  org_id  year  month  week  visited  weekly_visited\n",
              "6            2       1  2014      2     6        1               3\n",
              "30          10     318  2013      4    15        1               3\n",
              "32          10     318  2013      4    17        1               3\n",
              "34          10     318  2013      5    18        1               3\n",
              "35          10     318  2013      5    19        1               5\n",
              "...        ...     ...   ...    ...   ...      ...             ...\n",
              "75886    11975      31  2014      5    21        1               3\n",
              "75905    11988     114  2014      3    12        1               4\n",
              "75912    11988     114  2014      4    18        1               3\n",
              "75915    11988     114  2014      5    20        1               3\n",
              "75916    11988     114  2014      5    21        1               5\n",
              "\n",
              "[32754 rows x 7 columns]"
            ],
            "text/html": [
              "\n",
              "  <div id=\"df-4fab8f98-38cc-47cb-aab7-04f2573381b3\">\n",
              "    <div class=\"colab-df-container\">\n",
              "      <div>\n",
              "<style scoped>\n",
              "    .dataframe tbody tr th:only-of-type {\n",
              "        vertical-align: middle;\n",
              "    }\n",
              "\n",
              "    .dataframe tbody tr th {\n",
              "        vertical-align: top;\n",
              "    }\n",
              "\n",
              "    .dataframe thead th {\n",
              "        text-align: right;\n",
              "    }\n",
              "</style>\n",
              "<table border=\"1\" class=\"dataframe\">\n",
              "  <thead>\n",
              "    <tr style=\"text-align: right;\">\n",
              "      <th></th>\n",
              "      <th>user_id</th>\n",
              "      <th>org_id</th>\n",
              "      <th>year</th>\n",
              "      <th>month</th>\n",
              "      <th>week</th>\n",
              "      <th>visited</th>\n",
              "      <th>weekly_visited</th>\n",
              "    </tr>\n",
              "  </thead>\n",
              "  <tbody>\n",
              "    <tr>\n",
              "      <th>6</th>\n",
              "      <td>2</td>\n",
              "      <td>1</td>\n",
              "      <td>2014</td>\n",
              "      <td>2</td>\n",
              "      <td>6</td>\n",
              "      <td>1</td>\n",
              "      <td>3</td>\n",
              "    </tr>\n",
              "    <tr>\n",
              "      <th>30</th>\n",
              "      <td>10</td>\n",
              "      <td>318</td>\n",
              "      <td>2013</td>\n",
              "      <td>4</td>\n",
              "      <td>15</td>\n",
              "      <td>1</td>\n",
              "      <td>3</td>\n",
              "    </tr>\n",
              "    <tr>\n",
              "      <th>32</th>\n",
              "      <td>10</td>\n",
              "      <td>318</td>\n",
              "      <td>2013</td>\n",
              "      <td>4</td>\n",
              "      <td>17</td>\n",
              "      <td>1</td>\n",
              "      <td>3</td>\n",
              "    </tr>\n",
              "    <tr>\n",
              "      <th>34</th>\n",
              "      <td>10</td>\n",
              "      <td>318</td>\n",
              "      <td>2013</td>\n",
              "      <td>5</td>\n",
              "      <td>18</td>\n",
              "      <td>1</td>\n",
              "      <td>3</td>\n",
              "    </tr>\n",
              "    <tr>\n",
              "      <th>35</th>\n",
              "      <td>10</td>\n",
              "      <td>318</td>\n",
              "      <td>2013</td>\n",
              "      <td>5</td>\n",
              "      <td>19</td>\n",
              "      <td>1</td>\n",
              "      <td>5</td>\n",
              "    </tr>\n",
              "    <tr>\n",
              "      <th>...</th>\n",
              "      <td>...</td>\n",
              "      <td>...</td>\n",
              "      <td>...</td>\n",
              "      <td>...</td>\n",
              "      <td>...</td>\n",
              "      <td>...</td>\n",
              "      <td>...</td>\n",
              "    </tr>\n",
              "    <tr>\n",
              "      <th>75886</th>\n",
              "      <td>11975</td>\n",
              "      <td>31</td>\n",
              "      <td>2014</td>\n",
              "      <td>5</td>\n",
              "      <td>21</td>\n",
              "      <td>1</td>\n",
              "      <td>3</td>\n",
              "    </tr>\n",
              "    <tr>\n",
              "      <th>75905</th>\n",
              "      <td>11988</td>\n",
              "      <td>114</td>\n",
              "      <td>2014</td>\n",
              "      <td>3</td>\n",
              "      <td>12</td>\n",
              "      <td>1</td>\n",
              "      <td>4</td>\n",
              "    </tr>\n",
              "    <tr>\n",
              "      <th>75912</th>\n",
              "      <td>11988</td>\n",
              "      <td>114</td>\n",
              "      <td>2014</td>\n",
              "      <td>4</td>\n",
              "      <td>18</td>\n",
              "      <td>1</td>\n",
              "      <td>3</td>\n",
              "    </tr>\n",
              "    <tr>\n",
              "      <th>75915</th>\n",
              "      <td>11988</td>\n",
              "      <td>114</td>\n",
              "      <td>2014</td>\n",
              "      <td>5</td>\n",
              "      <td>20</td>\n",
              "      <td>1</td>\n",
              "      <td>3</td>\n",
              "    </tr>\n",
              "    <tr>\n",
              "      <th>75916</th>\n",
              "      <td>11988</td>\n",
              "      <td>114</td>\n",
              "      <td>2014</td>\n",
              "      <td>5</td>\n",
              "      <td>21</td>\n",
              "      <td>1</td>\n",
              "      <td>5</td>\n",
              "    </tr>\n",
              "  </tbody>\n",
              "</table>\n",
              "<p>32754 rows × 7 columns</p>\n",
              "</div>\n",
              "      <button class=\"colab-df-convert\" onclick=\"convertToInteractive('df-4fab8f98-38cc-47cb-aab7-04f2573381b3')\"\n",
              "              title=\"Convert this dataframe to an interactive table.\"\n",
              "              style=\"display:none;\">\n",
              "        \n",
              "  <svg xmlns=\"http://www.w3.org/2000/svg\" height=\"24px\"viewBox=\"0 0 24 24\"\n",
              "       width=\"24px\">\n",
              "    <path d=\"M0 0h24v24H0V0z\" fill=\"none\"/>\n",
              "    <path d=\"M18.56 5.44l.94 2.06.94-2.06 2.06-.94-2.06-.94-.94-2.06-.94 2.06-2.06.94zm-11 1L8.5 8.5l.94-2.06 2.06-.94-2.06-.94L8.5 2.5l-.94 2.06-2.06.94zm10 10l.94 2.06.94-2.06 2.06-.94-2.06-.94-.94-2.06-.94 2.06-2.06.94z\"/><path d=\"M17.41 7.96l-1.37-1.37c-.4-.4-.92-.59-1.43-.59-.52 0-1.04.2-1.43.59L10.3 9.45l-7.72 7.72c-.78.78-.78 2.05 0 2.83L4 21.41c.39.39.9.59 1.41.59.51 0 1.02-.2 1.41-.59l7.78-7.78 2.81-2.81c.8-.78.8-2.07 0-2.86zM5.41 20L4 18.59l7.72-7.72 1.47 1.35L5.41 20z\"/>\n",
              "  </svg>\n",
              "      </button>\n",
              "      \n",
              "  <style>\n",
              "    .colab-df-container {\n",
              "      display:flex;\n",
              "      flex-wrap:wrap;\n",
              "      gap: 12px;\n",
              "    }\n",
              "\n",
              "    .colab-df-convert {\n",
              "      background-color: #E8F0FE;\n",
              "      border: none;\n",
              "      border-radius: 50%;\n",
              "      cursor: pointer;\n",
              "      display: none;\n",
              "      fill: #1967D2;\n",
              "      height: 32px;\n",
              "      padding: 0 0 0 0;\n",
              "      width: 32px;\n",
              "    }\n",
              "\n",
              "    .colab-df-convert:hover {\n",
              "      background-color: #E2EBFA;\n",
              "      box-shadow: 0px 1px 2px rgba(60, 64, 67, 0.3), 0px 1px 3px 1px rgba(60, 64, 67, 0.15);\n",
              "      fill: #174EA6;\n",
              "    }\n",
              "\n",
              "    [theme=dark] .colab-df-convert {\n",
              "      background-color: #3B4455;\n",
              "      fill: #D2E3FC;\n",
              "    }\n",
              "\n",
              "    [theme=dark] .colab-df-convert:hover {\n",
              "      background-color: #434B5C;\n",
              "      box-shadow: 0px 1px 3px 1px rgba(0, 0, 0, 0.15);\n",
              "      filter: drop-shadow(0px 1px 2px rgba(0, 0, 0, 0.3));\n",
              "      fill: #FFFFFF;\n",
              "    }\n",
              "  </style>\n",
              "\n",
              "      <script>\n",
              "        const buttonEl =\n",
              "          document.querySelector('#df-4fab8f98-38cc-47cb-aab7-04f2573381b3 button.colab-df-convert');\n",
              "        buttonEl.style.display =\n",
              "          google.colab.kernel.accessAllowed ? 'block' : 'none';\n",
              "\n",
              "        async function convertToInteractive(key) {\n",
              "          const element = document.querySelector('#df-4fab8f98-38cc-47cb-aab7-04f2573381b3');\n",
              "          const dataTable =\n",
              "            await google.colab.kernel.invokeFunction('convertToInteractive',\n",
              "                                                     [key], {});\n",
              "          if (!dataTable) return;\n",
              "\n",
              "          const docLinkHtml = 'Like what you see? Visit the ' +\n",
              "            '<a target=\"_blank\" href=https://colab.research.google.com/notebooks/data_table.ipynb>data table notebook</a>'\n",
              "            + ' to learn more about interactive tables.';\n",
              "          element.innerHTML = '';\n",
              "          dataTable['output_type'] = 'display_data';\n",
              "          await google.colab.output.renderOutput(dataTable, element);\n",
              "          const docLink = document.createElement('div');\n",
              "          docLink.innerHTML = docLinkHtml;\n",
              "          element.appendChild(docLink);\n",
              "        }\n",
              "      </script>\n",
              "    </div>\n",
              "  </div>\n",
              "  "
            ]
          },
          "metadata": {},
          "execution_count": 22
        }
      ]
    },
    {
      "cell_type": "code",
      "source": [
        "#Taking data from \"creation_source\" column\n",
        "countt= merged_data.groupby(['creation_source']).size()\n",
        "countt = countt.to_frame(name = 'size').reset_index()\n",
        "\n",
        "#Pie chart which shows Account \"Creation Source\" details\n",
        "y = np.array(countt['size'])\n",
        "label = np.array(countt['creation_source'])\n",
        "\n",
        "plt.pie(y, labels =label, autopct='%1.0f%%')\n",
        "plt.show()"
      ],
      "metadata": {
        "colab": {
          "base_uri": "https://localhost:8080/",
          "height": 248
        },
        "id": "scv_bU2r3Dr3",
        "outputId": "5b1d564d-034f-4125-b6c3-0a9bffd56bb0"
      },
      "execution_count": null,
      "outputs": [
        {
          "output_type": "display_data",
          "data": {
            "text/plain": [
              "<Figure size 432x288 with 1 Axes>"
            ],
            "image/png": "[encoded data removed]"
          },
          "metadata": {}
        }
      ]
    },
    {
      "cell_type": "markdown",
      "source": [
        "**The above piechart shows the adoption of users w.r.to creation source**"
      ],
      "metadata": {
        "id": "YDdYUTOq7zAk"
      }
    },
    {
      "cell_type": "code",
      "source": [
        "#Grouping both columns and creating df2\n",
        "df2 = df1\n",
        "df2 = df2.groupby(['user_id','org_id']).size()\n",
        "df2 = df2.to_frame(name = 'total_visit').reset_index()\n",
        "\n",
        "#Filtering top 25% of users and their login counts\n",
        "top= df2[df2['total_visit'] >=75]\n",
        "\n",
        "#Bar chart which shows Top users and their login counts\n",
        "top.plot.bar(x='user_id', y='total_visit', figsize=(30,10), title=\"Top users and their login counts\")\n",
        "plt.show()"
      ],
      "metadata": {
        "colab": {
          "base_uri": "https://localhost:8080/",
          "height": 448
        },
        "id": "l1FZtLLX6LEa",
        "outputId": "53db5e3d-9337-45b8-f1e3-8e713d9d872d"
      },
      "execution_count": null,
      "outputs": [
        {
          "output_type": "display_data",
          "data": {
            "text/plain": [
              "<Figure size 2160x720 with 1 Axes>"
            ],
            "image/png": "[encoded data removed]"
          },
          "metadata": {
            "needs_background": "light"
          }
        }
      ]
    },
    {
      "cell_type": "markdown",
      "source": [
        "The above Bar chart uses top users with their login counts"
      ],
      "metadata": {
        "id": "SkM0YqpJ7FPk"
      }
    },
    {
      "cell_type": "code",
      "source": [
        "#Merging the actual data with the top user's data \n",
        "top_users= pd.merge(userdata1,top,  left_on='object_id' , right_on='user_id')\n",
        "\n",
        "cnt= top_users.groupby(['creation_source']).size()\n",
        "cnt=cnt.to_frame(name='size').reset_index()\n",
        "\n",
        "#Pie chart which shows the user adoption in top users\n",
        "y=np.array(cnt['size'])\n",
        "label=np.array(cnt['creation_source'])\n",
        "\n",
        "plt.pie(y, labels= label, autopct='%1.0f%%')\n",
        "plt.show()"
      ],
      "metadata": {
        "id": "O9nkJubb6XP4",
        "outputId": "fac946fa-57ee-4565-9ce4-02d4da159eb5",
        "colab": {
          "base_uri": "https://localhost:8080/",
          "height": 248
        }
      },
      "execution_count": null,
      "outputs": [
        {
          "output_type": "display_data",
          "data": {
            "text/plain": [
              "<Figure size 432x288 with 1 Axes>"
            ],
            "image/png": "[encoded data removed]"
          },
          "metadata": {}
        }
      ]
    },
    {
      "cell_type": "markdown",
      "source": [
        "**Most of the top users are from Org_Invite,Guest_Invite,Signup_google_auth**"
      ],
      "metadata": {
        "id": "jjclv2Le8PtW"
      }
    }
  ]
}